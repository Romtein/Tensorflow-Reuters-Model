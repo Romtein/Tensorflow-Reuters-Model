{
  "nbformat": 4,
  "nbformat_minor": 0,
  "metadata": {
    "colab": {
      "name": "Tensorflow Reuters Prediction Model ",
      "provenance": [],
      "collapsed_sections": []
    },
    "kernelspec": {
      "name": "python3",
      "display_name": "Python 3"
    }
  },
  "cells": [
    {
      "cell_type": "code",
      "metadata": {
        "id": "O6mvoMTGt_Jn",
        "colab_type": "code",
        "outputId": "351b3181-26ad-4c88-bd32-d7a809478787",
        "colab": {
          "base_uri": "https://localhost:8080/",
          "height": 54
        }
      },
      "source": [
        "from keras.datasets import reuters\n",
        "import numpy as np\n",
        "import pandas as pd\n",
        "\n",
        "(train_data, train_labels), (test_data, test_labels) = reuters.load_data(num_words=10000)\n",
        "\n",
        "print(len(x_train))\n",
        "print(len(x_test))"
      ],
      "execution_count": 0,
      "outputs": [
        {
          "output_type": "stream",
          "text": [
            "8982\n",
            "2246\n"
          ],
          "name": "stdout"
        }
      ]
    },
    {
      "cell_type": "code",
      "metadata": {
        "id": "yMr1alwgtNiI",
        "colab_type": "code",
        "colab": {}
      },
      "source": [
        "#vectorizing word sequences\n",
        "from keras.utils.np_utils import to_categorical\n",
        "\n",
        "one_hot_train_labels = to_categorical(train_labels)\n",
        "one_hot_test_labels = to_categorical(test_labels)\n"
      ],
      "execution_count": 0,
      "outputs": []
    },
    {
      "cell_type": "code",
      "metadata": {
        "id": "JVrsBHYXyt67",
        "colab_type": "code",
        "colab": {}
      },
      "source": [
        "word_index = reuters.get_word_index()\n",
        "reverse_word_index = dict([(value, key) for (key, value) in word_index.items()])\n",
        "decoded_newswire = ' '.join([reverse_word_index.get(i - 3, '?') for i in\n",
        "train_data[0]])"
      ],
      "execution_count": 0,
      "outputs": []
    },
    {
      "cell_type": "code",
      "metadata": {
        "id": "NN2l8uHVxqRm",
        "colab_type": "code",
        "colab": {}
      },
      "source": [
        "#building the prediction model\n",
        "from keras import models\n",
        "from keras import layers\n",
        "\n",
        "model = models.Sequential()\n",
        "model.add(layers.Dense(64, activation = 'relu', input_shape=(10000,)))\n",
        "model.add(layers.Dense(64, activation= 'relu'))\n",
        "#softmax is especially good for probability distribution\n",
        "#46 layers because 46 categories\n",
        "model.add(layers.Dense(46, activation='softmax'))"
      ],
      "execution_count": 0,
      "outputs": []
    },
    {
      "cell_type": "code",
      "metadata": {
        "id": "KLbzOtVXyGHC",
        "colab_type": "code",
        "colab": {}
      },
      "source": [
        "\n",
        "model.compile(optimizer = 'rmsprop',\n",
        "         loss = 'categorical_crossentropy',\n",
        "         metrics = ['accuracy'])\n",
        "\n"
      ],
      "execution_count": 0,
      "outputs": []
    },
    {
      "cell_type": "code",
      "metadata": {
        "id": "88F7xiLSzacE",
        "colab_type": "code",
        "colab": {}
      },
      "source": [
        "#setting aside 1000 examples for validation set\n",
        "x_val = x_train[:1000]\n",
        "partial_x_train = x_train[1000:]\n",
        "\n",
        "y_val = one_hot_train_labels[:1000]\n",
        "partial_y_train = one_hot_train_labels[1000:]"
      ],
      "execution_count": 0,
      "outputs": []
    },
    {
      "cell_type": "code",
      "metadata": {
        "id": "JaGgsAe00AB7",
        "colab_type": "code",
        "outputId": "3615b4fd-67de-4073-b1b2-a524ea4206e7",
        "colab": {
          "base_uri": "https://localhost:8080/",
          "height": 763
        }
      },
      "source": [
        "history = model.fit(partial_x_train,\n",
        "  partial_y_train,\n",
        "  epochs=20,\n",
        "  batch_size=512,\n",
        "  validation_data=(x_val, y_val))"
      ],
      "execution_count": 0,
      "outputs": [
        {
          "output_type": "stream",
          "text": [
            "Train on 7982 samples, validate on 1000 samples\n",
            "Epoch 1/20\n",
            "7982/7982 [==============================] - 1s 169us/step - loss: 2.6767 - accuracy: 0.4697 - val_loss: 1.7973 - val_accuracy: 0.6390\n",
            "Epoch 2/20\n",
            "7982/7982 [==============================] - 1s 133us/step - loss: 1.4669 - accuracy: 0.6951 - val_loss: 1.3292 - val_accuracy: 0.7040\n",
            "Epoch 3/20\n",
            "7982/7982 [==============================] - 1s 131us/step - loss: 1.0775 - accuracy: 0.7663 - val_loss: 1.1269 - val_accuracy: 0.7540\n",
            "Epoch 4/20\n",
            "7982/7982 [==============================] - 1s 134us/step - loss: 0.8450 - accuracy: 0.8215 - val_loss: 1.0093 - val_accuracy: 0.7830\n",
            "Epoch 5/20\n",
            "7982/7982 [==============================] - 1s 130us/step - loss: 0.6681 - accuracy: 0.8664 - val_loss: 0.9394 - val_accuracy: 0.8110\n",
            "Epoch 6/20\n",
            "7982/7982 [==============================] - 1s 131us/step - loss: 0.5355 - accuracy: 0.8930 - val_loss: 0.9001 - val_accuracy: 0.8170\n",
            "Epoch 7/20\n",
            "7982/7982 [==============================] - 1s 130us/step - loss: 0.4355 - accuracy: 0.9088 - val_loss: 0.8779 - val_accuracy: 0.8160\n",
            "Epoch 8/20\n",
            "7982/7982 [==============================] - 1s 130us/step - loss: 0.3490 - accuracy: 0.9282 - val_loss: 0.8503 - val_accuracy: 0.8310\n",
            "Epoch 9/20\n",
            "7982/7982 [==============================] - 1s 130us/step - loss: 0.2866 - accuracy: 0.9379 - val_loss: 0.9030 - val_accuracy: 0.8120\n",
            "Epoch 10/20\n",
            "7982/7982 [==============================] - 1s 130us/step - loss: 0.2497 - accuracy: 0.9434 - val_loss: 0.8584 - val_accuracy: 0.8300\n",
            "Epoch 11/20\n",
            "7982/7982 [==============================] - 1s 132us/step - loss: 0.2080 - accuracy: 0.9486 - val_loss: 0.8662 - val_accuracy: 0.8250\n",
            "Epoch 12/20\n",
            "7982/7982 [==============================] - 1s 133us/step - loss: 0.1868 - accuracy: 0.9521 - val_loss: 0.8892 - val_accuracy: 0.8220\n",
            "Epoch 13/20\n",
            "7982/7982 [==============================] - 1s 133us/step - loss: 0.1642 - accuracy: 0.9543 - val_loss: 0.9054 - val_accuracy: 0.8180\n",
            "Epoch 14/20\n",
            "7982/7982 [==============================] - 1s 137us/step - loss: 0.1552 - accuracy: 0.9549 - val_loss: 0.9418 - val_accuracy: 0.8170\n",
            "Epoch 15/20\n",
            "7982/7982 [==============================] - 1s 135us/step - loss: 0.1406 - accuracy: 0.9575 - val_loss: 0.9321 - val_accuracy: 0.8150\n",
            "Epoch 16/20\n",
            "7982/7982 [==============================] - 1s 135us/step - loss: 0.1311 - accuracy: 0.9557 - val_loss: 0.9257 - val_accuracy: 0.8180\n",
            "Epoch 17/20\n",
            "7982/7982 [==============================] - 1s 132us/step - loss: 0.1276 - accuracy: 0.9558 - val_loss: 1.0373 - val_accuracy: 0.8030\n",
            "Epoch 18/20\n",
            "7982/7982 [==============================] - 1s 131us/step - loss: 0.1201 - accuracy: 0.9572 - val_loss: 0.9946 - val_accuracy: 0.8050\n",
            "Epoch 19/20\n",
            "7982/7982 [==============================] - 1s 134us/step - loss: 0.1164 - accuracy: 0.9570 - val_loss: 0.9985 - val_accuracy: 0.8150\n",
            "Epoch 20/20\n",
            "7982/7982 [==============================] - 1s 133us/step - loss: 0.1103 - accuracy: 0.9589 - val_loss: 1.0206 - val_accuracy: 0.8070\n"
          ],
          "name": "stdout"
        }
      ]
    },
    {
      "cell_type": "code",
      "metadata": {
        "id": "DCXmj-CwzZof",
        "colab_type": "code",
        "outputId": "59616ee6-f880-48a7-c54b-ec3d145d1a53",
        "colab": {
          "base_uri": "https://localhost:8080/",
          "height": 295
        }
      },
      "source": [
        "import matplotlib.pyplot as plt\n",
        "loss = history.history['loss']\n",
        "val_loss = history.history['val_loss']\n",
        "epochs = range(1, len(loss) + 1)\n",
        "plt.plot(epochs, loss, 'bo', label='Training loss')\n",
        "plt.plot(epochs, val_loss, 'b', label='Validation loss')\n",
        "plt.title('Training and validation loss')\n",
        "plt.xlabel('Epochs')\n",
        "plt.ylabel('Loss')\n",
        "plt.legend()\n",
        "plt.show()"
      ],
      "execution_count": 0,
      "outputs": [
        {
          "output_type": "display_data",
          "data": {
            "image/png": "[encoded data removed]",
            "text/plain": [
              "<Figure size 432x288 with 1 Axes>"
            ]
          },
          "metadata": {
            "tags": [],
            "needs_background": "light"
          }
        }
      ]
    },
    {
      "cell_type": "code",
      "metadata": {
        "id": "sjSZSlhCz_Lj",
        "colab_type": "code",
        "colab": {}
      },
      "source": [
        ""
      ],
      "execution_count": 0,
      "outputs": []
    }
  ]
}